{
 "cells": [
  {
   "cell_type": "markdown",
   "id": "923b7226",
   "metadata": {},
   "source": []
  },
  {
   "cell_type": "markdown",
   "id": "ca84ab3d",
   "metadata": {},
   "source": []
  }
 ],
 "metadata": {
  "language_info": {
   "name": "python"
  }
 },
 "nbformat": 4,
 "nbformat_minor": 5
}
