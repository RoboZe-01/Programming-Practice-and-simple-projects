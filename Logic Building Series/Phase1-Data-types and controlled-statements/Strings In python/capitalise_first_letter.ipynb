{
 "cells": [
  {
   "cell_type": "markdown",
   "id": "b6b96dab",
   "metadata": {},
   "source": [
    "## Problem statement : \n",
    "**Capitalize First Letter**\n",
    "\n",
    "\n",
    "Capitalize the first letter of a string.\n",
    "\n",
    "Example: \"python\" → \"Python\""
   ]
  },
  {
   "cell_type": "markdown",
   "id": "59d83c8b",
   "metadata": {},
   "source": [
    "## **Things we can do to solve this problem**\n",
    "\n",
    "**Methods to do this :**\n",
    "\n",
    "- First method : Using indexing method to convert first letter to capital . \n",
    "  problem with this method : 1. Only applicable for single word\n",
    "\n",
    "- Second method will be using inbuild python method \n",
    "                              \n"
   ]
  },
  {
   "cell_type": "markdown",
   "id": "736d7896",
   "metadata": {},
   "source": [
    "**Using indexing**"
   ]
  },
  {
   "cell_type": "code",
   "execution_count": null,
   "id": "700f5d41",
   "metadata": {},
   "outputs": [
    {
     "name": "stdout",
     "output_type": "stream",
     "text": [
      "Hello how are you \n"
     ]
    }
   ],
   "source": [
    "# Take user input \n",
    "user_input = input(\"Enter the word : \")\n",
    "\n",
    "# capital_input = user_input.capitalize()\n",
    "# print(capital_input)\n",
    "\n",
    "\n",
    "def capitalize_first(user_ip):\n",
    "    return user_ip[0].upper()+user_ip[1:]\n",
    "\n",
    "print(capitalize_first(user_input))\n",
    "\n",
    "\n",
    "# We can see here that only the first letter is converted into the upper case "
   ]
  },
  {
   "cell_type": "markdown",
   "id": "da8868b6",
   "metadata": {},
   "source": [
    "### Using capitalised function\n",
    "\n"
   ]
  },
  {
   "cell_type": "code",
   "execution_count": null,
   "id": "16d34ecd",
   "metadata": {},
   "outputs": [
    {
     "name": "stdout",
     "output_type": "stream",
     "text": [
      "Hello how are you \n"
     ]
    }
   ],
   "source": [
    "user_input1 = input(\"Enter the input you wanna capitalised : \")  \n",
    "\n",
    "def upper_first(user):\n",
    "    return user.capitalize()\n",
    "\n",
    "print(upper_first(user_input1))\n",
    "\n",
    "# This method also fails to do that "
   ]
  },
  {
   "cell_type": "markdown",
   "id": "8b563e79",
   "metadata": {},
   "source": [
    "## Using title method \n",
    "\n",
    "**tittle()** : Capitalise first letter in each word"
   ]
  },
  {
   "cell_type": "code",
   "execution_count": 13,
   "id": "23ea10e5",
   "metadata": {},
   "outputs": [
    {
     "name": "stdout",
     "output_type": "stream",
     "text": [
      "Hi How Are You Brother \n"
     ]
    }
   ],
   "source": [
    "use_input = input(\"Enter your input : \")\n",
    "\n",
    "def capitalise(user):\n",
    "    return user.title()\n",
    "\n",
    "\n",
    "print(capitalise(use_input))"
   ]
  },
  {
   "cell_type": "markdown",
   "id": "a2e253c2",
   "metadata": {},
   "source": []
  }
 ],
 "metadata": {
  "kernelspec": {
   "display_name": "Python 3",
   "language": "python",
   "name": "python3"
  },
  "language_info": {
   "codemirror_mode": {
    "name": "ipython",
    "version": 3
   },
   "file_extension": ".py",
   "mimetype": "text/x-python",
   "name": "python",
   "nbconvert_exporter": "python",
   "pygments_lexer": "ipython3",
   "version": "3.11.9"
  }
 },
 "nbformat": 4,
 "nbformat_minor": 5
}
