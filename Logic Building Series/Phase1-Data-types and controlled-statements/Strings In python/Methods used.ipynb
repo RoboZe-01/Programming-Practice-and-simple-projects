{
 "cells": [
  {
   "cell_type": "markdown",
   "id": "ec75200a",
   "metadata": {},
   "source": [
    "# **Split () in python**\n",
    "\n",
    "\n",
    "\n",
    "# Python's `split()` Function - Explained Clearly\n",
    "\n",
    "## What It Does:\n",
    "`split()` divides a string into a list of substrings based on a separator.\n",
    "\n",
    "### Key Features:\n",
    "- **Default behavior**: Splits at whitespace (spaces, tabs, newlines)\n",
    "- **Custom separator**: You can specify any delimiter\n",
    "- **Max splits**: Optional limit on number of splits\n",
    "\n",
    "## Examples:\n",
    "\n",
    "1. **Basic Usage**:\n",
    "```python\n",
    "text = \"Hello World Python\"\n",
    "words = text.split()  # Splits at spaces by default\n",
    "print(words)  # Output: ['Hello', 'World', 'Python']\n",
    "```\n",
    "\n",
    "2. **Custom Separator**:\n",
    "```python\n",
    "csv_data = \"apple,banana,cherry\"\n",
    "fruits = csv_data.split(',')\n",
    "print(fruits)  # Output: ['apple', 'banana', 'cherry']\n",
    "```\n",
    "\n",
    "3. **Max Splits**:\n",
    "```python\n",
    "text = \"one:two:three:four\"\n",
    "parts = text.split(':', 2)  # Split only twice\n",
    "print(parts)  # Output: ['one', 'two', 'three:four']\n",
    "```\n",
    "\n",
    "## Important Notes:\n",
    "- Returns a **list** of strings\n",
    "- Original string remains unchanged (strings are immutable)\n",
    "- Empty string returns `['']` (not an empty list)\n",
    "- When separator isn't found, returns original string in a list\n",
    "\n",
    "## Common Use Cases:\n",
    "- Parsing CSV data\n",
    "- Processing log files\n",
    "- Extracting words from sentences\n",
    "- Breaking down URLs/paths\n"
   ]
  }
 ],
 "metadata": {
  "language_info": {
   "name": "python"
  }
 },
 "nbformat": 4,
 "nbformat_minor": 5
}
