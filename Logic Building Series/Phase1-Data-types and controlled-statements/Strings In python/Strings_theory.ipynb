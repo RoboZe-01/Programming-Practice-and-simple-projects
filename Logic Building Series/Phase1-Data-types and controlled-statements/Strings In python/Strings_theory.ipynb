{
 "cells": [
  {
   "cell_type": "markdown",
   "id": "a7bcb601",
   "metadata": {},
   "source": [
    "# Strings\n",
    "Strings in python are surrounded by either single quotation marks, or double quotation marks.\n",
    "\n",
    "'hello' is the same as \"hello\".\n",
    "\n",
    "You can display a string literal with the print() function:"
   ]
  },
  {
   "cell_type": "code",
   "execution_count": 1,
   "id": "4fa36e95",
   "metadata": {},
   "outputs": [
    {
     "name": "stdout",
     "output_type": "stream",
     "text": [
      "Hi this is the single line string \n"
     ]
    }
   ],
   "source": [
    "# Example \n",
    "a = \"Hi this is the single line string \"\n",
    "print(a)"
   ]
  },
  {
   "cell_type": "markdown",
   "id": "26aa4422",
   "metadata": {},
   "source": [
    "**Quotes inside the string** \n",
    "\n",
    "You can use quotes inside a string, as long as they don't match the quotes surrounding the string:"
   ]
  },
  {
   "cell_type": "code",
   "execution_count": null,
   "id": "880eb586",
   "metadata": {},
   "outputs": [
    {
     "name": "stdout",
     "output_type": "stream",
     "text": [
      "It's '''alright''' \n"
     ]
    }
   ],
   "source": [
    "print(\"It's '''alright''' \")  # We can use any quotes as long as that does not match external quotes"
   ]
  },
  {
   "cell_type": "code",
   "execution_count": 2,
   "id": "6fbe922b",
   "metadata": {},
   "outputs": [
    {
     "name": "stdout",
     "output_type": "stream",
     "text": [
      "Lorem ipsum dolor sit amet,\n",
      "consectetur adipiscing elit,\n",
      "sed do eiusmod tempor incididunt\n",
      "ut labore et dolore magna aliqua.\n"
     ]
    }
   ],
   "source": [
    "#Multiline strings in python \n",
    "a = \"\"\"Lorem ipsum dolor sit amet,\n",
    "consectetur adipiscing elit,\n",
    "sed do eiusmod tempor incididunt\n",
    "ut labore et dolore magna aliqua.\"\"\"\n",
    "\n",
    "print(a)"
   ]
  },
  {
   "cell_type": "markdown",
   "id": "71555f90",
   "metadata": {},
   "source": [
    "## Strings are arrays \n",
    "\n",
    "Like many other popular programming languages, strings in Python are arrays of unicode characters.\n",
    "\n",
    "However, Python does not have a character data type, a single character is simply a string with a length of 1.\n",
    "\n",
    "Square brackets can be used to access elements of the string."
   ]
  },
  {
   "cell_type": "code",
   "execution_count": 3,
   "id": "c80dd27d",
   "metadata": {},
   "outputs": [
    {
     "name": "stdout",
     "output_type": "stream",
     "text": [
      "i\n"
     ]
    }
   ],
   "source": [
    "# Thus we can get character using indexing\n",
    "a = \"Hii\"\n",
    "print(a[1])"
   ]
  },
  {
   "cell_type": "markdown",
   "id": "ebfcbd05",
   "metadata": {},
   "source": [
    "## Looping through String"
   ]
  },
  {
   "cell_type": "code",
   "execution_count": 4,
   "id": "dfae3014",
   "metadata": {},
   "outputs": [
    {
     "name": "stdout",
     "output_type": "stream",
     "text": [
      "hello\n",
      "hello\n",
      "hello\n",
      "hello\n",
      "hello\n"
     ]
    }
   ],
   "source": [
    "# To loop in string we can use for loop \n",
    "a = \"hello\"\n",
    "for i in a :\n",
    "    print(a)"
   ]
  },
  {
   "cell_type": "markdown",
   "id": "2b2f3764",
   "metadata": {},
   "source": [
    "String len"
   ]
  },
  {
   "cell_type": "code",
   "execution_count": 1,
   "id": "09ef9c35",
   "metadata": {},
   "outputs": [
    {
     "name": "stdout",
     "output_type": "stream",
     "text": [
      "15\n"
     ]
    }
   ],
   "source": [
    "a = \"Hii How are you\"\n",
    "print(len(a))  # This gives length of the string"
   ]
  }
 ],
 "metadata": {
  "kernelspec": {
   "display_name": "Python 3",
   "language": "python",
   "name": "python3"
  },
  "language_info": {
   "codemirror_mode": {
    "name": "ipython",
    "version": 3
   },
   "file_extension": ".py",
   "mimetype": "text/x-python",
   "name": "python",
   "nbconvert_exporter": "python",
   "pygments_lexer": "ipython3",
   "version": "3.11.9"
  }
 },
 "nbformat": 4,
 "nbformat_minor": 5
}
