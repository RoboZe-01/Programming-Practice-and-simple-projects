{
 "cells": [
  {
   "cell_type": "markdown",
   "metadata": {},
   "source": [
    "# File Handeling\n",
    "\n",
    "#### - Main things are :\n",
    "- open\n",
    "- read = 'r'\n",
    "- write = 'w'\n",
    "- append = 'a'\n",
    "- close()         ( It is best practice to close the file )"
   ]
  },
  {
   "cell_type": "markdown",
   "metadata": {},
   "source": [
    "## File Reading\n",
    "\n",
    "#### There are three methonds\n",
    "- read()  = Reads the entire file \n",
    "- readline() = Read only the first line\n",
    "- Readlines() = Read the lines as the list format "
   ]
  },
  {
   "cell_type": "code",
   "execution_count": null,
   "metadata": {},
   "outputs": [],
   "source": [
    "# Opening the file \n",
    "user_input = input(\"Enter the path of the file : \")\n",
    "\n",
    "file = open(user_input.strip('\" \"'),'r')\n",
    "\n",
    "# Reading the file \n",
    "\n",
    "read = file.read()\n",
    "print(read)\n",
    "file.close()\n"
   ]
  },
  {
   "cell_type": "code",
   "execution_count": null,
   "metadata": {},
   "outputs": [],
   "source": []
  }
 ],
 "metadata": {
  "kernelspec": {
   "display_name": "Python 3",
   "language": "python",
   "name": "python3"
  },
  "language_info": {
   "codemirror_mode": {
    "name": "ipython",
    "version": 3
   },
   "file_extension": ".py",
   "mimetype": "text/x-python",
   "name": "python",
   "nbconvert_exporter": "python",
   "pygments_lexer": "ipython3",
   "version": "3.11.9"
  }
 },
 "nbformat": 4,
 "nbformat_minor": 2
}
